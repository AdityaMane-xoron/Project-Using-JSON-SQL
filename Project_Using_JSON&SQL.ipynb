{
 "cells": [
  {
   "cell_type": "code",
   "execution_count": 1,
   "id": "9b6ce71f-765d-4603-a1e7-ef7e51181151",
   "metadata": {},
   "outputs": [],
   "source": [
    "import json\n",
    "import requests\n",
    "import warnings\n",
    "warnings.filterwarnings(\"ignore\")"
   ]
  },
  {
   "cell_type": "code",
   "execution_count": 2,
   "id": "a8846c4a-2a0a-472b-820e-26ec31173c93",
   "metadata": {},
   "outputs": [
    {
     "name": "stdout",
     "output_type": "stream",
     "text": [
      "<Response [200]>\n",
      "JSON Response  {'segment': 'CASH', 'exchangeAggRespMap': {'BSE': {'priceLivePointsMap': {'AXISBANK': {'type': 'LIVE_PRICE', 'symbol': 'AXISBANK', 'open': 0, 'high': 0, 'low': 0, 'close': 0, 'ltp': 0, 'volume': 0, 'tsInMillis': 1729270250, 'lowPriceRange': 0, 'highPriceRange': 0, 'totalBuyQty': 0, 'totalSellQty': 0, 'dayChange': 0, 'dayChangePerc': 0, 'openInterest': 0, 'lastTradeQty': 0, 'lastTradeTime': 1729270250, 'prevOpenInterest': None, 'oiDayChange': None, 'oiDayChangePerc': None, 'lowTradeRange': 0, 'highTradeRange': 0}}, 'indexLivePointsMap': {}}, 'NSE': {'priceLivePointsMap': {'BHARTIARTL': {'type': 'LIVE_PRICE', 'symbol': 'BHARTIARTL', 'open': 1710, 'high': 1716.1, 'low': 1685.2, 'close': 1701.15, 'ltp': 1707.85, 'volume': 4154915, 'tsInMillis': 1729247397, 'lowPriceRange': 1531.05, 'highPriceRange': 1871.25, 'totalBuyQty': 0, 'totalSellQty': 1261, 'dayChange': 6.699999999999818, 'dayChangePerc': 0.3938512182934967, 'openInterest': None, 'lastTradeQty': 7, 'lastTradeTime': 1729247397, 'prevOpenInterest': None, 'oiDayChange': 0, 'oiDayChangePerc': 0, 'lowTradeRange': None, 'highTradeRange': None}, 'HDFCBANK': {'type': 'LIVE_PRICE', 'symbol': 'HDFCBANK', 'open': 1663.1, 'high': 1691, 'low': 1654.1, 'close': 1673.15, 'ltp': 1681.85, 'volume': 12404862, 'tsInMillis': 1729247344, 'lowPriceRange': 1505.85, 'highPriceRange': 1840.45, 'totalBuyQty': 0, 'totalSellQty': 122, 'dayChange': 8.699999999999818, 'dayChangePerc': 0.5199772883483141, 'openInterest': None, 'lastTradeQty': 78, 'lastTradeTime': 1729247344, 'prevOpenInterest': None, 'oiDayChange': 0, 'oiDayChangePerc': 0, 'lowTradeRange': None, 'highTradeRange': None}, 'RELIANCE': {'type': 'LIVE_PRICE', 'symbol': 'RELIANCE', 'open': 2704.35, 'high': 2736.85, 'low': 2682.65, 'close': 2712.85, 'ltp': 2718.6, 'volume': 6041226, 'tsInMillis': 1729247393, 'lowPriceRange': 2441.6, 'highPriceRange': 2984.1, 'totalBuyQty': 0, 'totalSellQty': 4888, 'dayChange': 5.75, 'dayChangePerc': 0.21195421788893598, 'openInterest': None, 'lastTradeQty': 50, 'lastTradeTime': 1729247392, 'prevOpenInterest': None, 'oiDayChange': 0, 'oiDayChangePerc': 0, 'lowTradeRange': None, 'highTradeRange': None}, 'TCS': {'type': 'LIVE_PRICE', 'symbol': 'TCS', 'open': 4090, 'high': 4146.15, 'low': 4080, 'close': 4099, 'ltp': 4123.05, 'volume': 2361000, 'tsInMillis': 1729247337, 'lowPriceRange': 3689.1, 'highPriceRange': 4508.9, 'totalBuyQty': 78, 'totalSellQty': 0, 'dayChange': 24.050000000000182, 'dayChangePerc': 0.5867284703586285, 'openInterest': None, 'lastTradeQty': 19, 'lastTradeTime': 1729247337, 'prevOpenInterest': None, 'oiDayChange': 0, 'oiDayChangePerc': 0, 'lowTradeRange': None, 'highTradeRange': None}}, 'indexLivePointsMap': {}}}}\n"
     ]
    }
   ],
   "source": [
    "URL = (\"https://groww.in/v1/api/stocks_data/v1/tr_live_delayed/segment/CASH/latest_aggregated\")\n",
    "data = {\"exchangeAggReqMap\":{\"NSE\":{\"priceSymbolList\":[\"RELIANCE\",\"TCS\",\"HDFCBANK\",\"BHARTIARTL\"],\n",
    "                                    \"indexSymbolList\":[]},\n",
    "                             \"BSE\":{\"priceSymbolList\":[\"AXISBANK\"],\"indexSymbolList\":[]}}}\n",
    "\n",
    "response = requests.post(\"https://groww.in/v1/api/stocks_data/v1/tr_live_delayed/segment/CASH/latest_aggregated\", json=data)\n",
    "#print(\"Status Code\", response.status_code)\n",
    "print(response)\n",
    "print(\"JSON Response \", response.json())\n"
   ]
  },
  {
   "cell_type": "code",
   "execution_count": 3,
   "id": "6b10c16c-7acb-49f9-b795-f832b22d7983",
   "metadata": {},
   "outputs": [],
   "source": [
    "f = open('Json_File/Nifty_data.json' , 'w')\n",
    "Nifty_data = response.json()\n",
    "f.write(response.text)\n",
    "\n",
    "f.close()"
   ]
  },
  {
   "cell_type": "code",
   "execution_count": 59,
   "id": "b5b880bd-a5f0-49c0-97b0-2867fea9963d",
   "metadata": {},
   "outputs": [],
   "source": [
    "import mysql.connector\n",
    "from mysql.connector import Error"
   ]
  },
  {
   "cell_type": "code",
   "execution_count": 60,
   "id": "c9a4badb-ce9c-4174-8e98-350f2e754bef",
   "metadata": {},
   "outputs": [],
   "source": [
    "import pyodbc\n",
    "import pandas as pd"
   ]
  },
  {
   "cell_type": "code",
   "execution_count": 61,
   "id": "d74d596b-f0d9-48aa-b1de-2eb81cbb1205",
   "metadata": {},
   "outputs": [],
   "source": [
    "server = 'XORON18😎👻\\\\SQLEXPRESS'\n",
    "database = 'stock_market'"
   ]
  },
  {
   "cell_type": "code",
   "execution_count": 62,
   "id": "f04bcdb6-f2fd-4ba7-a25a-cd09fb6adf50",
   "metadata": {},
   "outputs": [],
   "source": [
    "conn_str = f'DRIVER={{SQL Server}};SERVER={server};DATABASE={database};Trusted_Connection=yes;'"
   ]
  },
  {
   "cell_type": "code",
   "execution_count": 63,
   "id": "7b9ee5c0-9daf-4738-a462-77ffa79a7e66",
   "metadata": {},
   "outputs": [],
   "source": [
    "conn = pyodbc.connect(conn_str)"
   ]
  },
  {
   "cell_type": "code",
   "execution_count": 64,
   "id": "6df7297e-cee4-496e-996c-5ddd48b5b0ea",
   "metadata": {},
   "outputs": [],
   "source": [
    "query = \"Select a.exchange_name, b.* From symbols b, exchange a Where a.Id=b.exchange_id;\""
   ]
  },
  {
   "cell_type": "code",
   "execution_count": 66,
   "id": "1927eb41-3256-4ec6-8875-fab17649b265",
   "metadata": {},
   "outputs": [],
   "source": [
    "df = pd.read_sql(query,conn)"
   ]
  },
  {
   "cell_type": "code",
   "execution_count": 67,
   "id": "57e8c0ae-ea22-41b6-8de2-66f645f6de5f",
   "metadata": {},
   "outputs": [
    {
     "data": {
      "text/html": [
       "<div>\n",
       "<style scoped>\n",
       "    .dataframe tbody tr th:only-of-type {\n",
       "        vertical-align: middle;\n",
       "    }\n",
       "\n",
       "    .dataframe tbody tr th {\n",
       "        vertical-align: top;\n",
       "    }\n",
       "\n",
       "    .dataframe thead th {\n",
       "        text-align: right;\n",
       "    }\n",
       "</style>\n",
       "<table border=\"1\" class=\"dataframe\">\n",
       "  <thead>\n",
       "    <tr style=\"text-align: right;\">\n",
       "      <th></th>\n",
       "      <th>exchange_name</th>\n",
       "      <th>ID</th>\n",
       "      <th>EXCHANGE_ID</th>\n",
       "      <th>SYMBOL</th>\n",
       "      <th>SYMBOL_TYPE</th>\n",
       "      <th>HIGH</th>\n",
       "      <th>LOW</th>\n",
       "      <th>TLP</th>\n",
       "      <th>OPENS</th>\n",
       "      <th>CLOSING</th>\n",
       "      <th>VOLUME</th>\n",
       "    </tr>\n",
       "  </thead>\n",
       "  <tbody>\n",
       "    <tr>\n",
       "      <th>0</th>\n",
       "      <td>BSE</td>\n",
       "      <td>1</td>\n",
       "      <td>19</td>\n",
       "      <td>AXISBANK</td>\n",
       "      <td>LIVE_PRICE</td>\n",
       "      <td>0.00</td>\n",
       "      <td>0.0</td>\n",
       "      <td>0.00</td>\n",
       "      <td>0.0</td>\n",
       "      <td>0.00</td>\n",
       "      <td>0</td>\n",
       "    </tr>\n",
       "    <tr>\n",
       "      <th>1</th>\n",
       "      <td>NSE</td>\n",
       "      <td>2</td>\n",
       "      <td>20</td>\n",
       "      <td>BHARTIARTL</td>\n",
       "      <td>LIVE_PRICE</td>\n",
       "      <td>1716.10</td>\n",
       "      <td>1685.2</td>\n",
       "      <td>1707.85</td>\n",
       "      <td>1710.0</td>\n",
       "      <td>1701.15</td>\n",
       "      <td>4154915</td>\n",
       "    </tr>\n",
       "    <tr>\n",
       "      <th>2</th>\n",
       "      <td>NSE</td>\n",
       "      <td>3</td>\n",
       "      <td>21</td>\n",
       "      <td>HDFCBANK</td>\n",
       "      <td>LIVE_PRICE</td>\n",
       "      <td>1691.10</td>\n",
       "      <td>1654.1</td>\n",
       "      <td>1681.85</td>\n",
       "      <td>1663.1</td>\n",
       "      <td>1673.15</td>\n",
       "      <td>12404862</td>\n",
       "    </tr>\n",
       "    <tr>\n",
       "      <th>3</th>\n",
       "      <td>NSE</td>\n",
       "      <td>4</td>\n",
       "      <td>22</td>\n",
       "      <td>TCS</td>\n",
       "      <td>LIVE_PRICE</td>\n",
       "      <td>4146.15</td>\n",
       "      <td>4080.0</td>\n",
       "      <td>4123.05</td>\n",
       "      <td>4090.0</td>\n",
       "      <td>4099.00</td>\n",
       "      <td>2361000</td>\n",
       "    </tr>\n",
       "  </tbody>\n",
       "</table>\n",
       "</div>"
      ],
      "text/plain": [
       "  exchange_name  ID  EXCHANGE_ID      SYMBOL SYMBOL_TYPE     HIGH     LOW  \\\n",
       "0           BSE   1           19    AXISBANK  LIVE_PRICE     0.00     0.0   \n",
       "1           NSE   2           20  BHARTIARTL  LIVE_PRICE  1716.10  1685.2   \n",
       "2           NSE   3           21    HDFCBANK  LIVE_PRICE  1691.10  1654.1   \n",
       "3           NSE   4           22         TCS  LIVE_PRICE  4146.15  4080.0   \n",
       "\n",
       "       TLP   OPENS  CLOSING    VOLUME  \n",
       "0     0.00     0.0     0.00         0  \n",
       "1  1707.85  1710.0  1701.15   4154915  \n",
       "2  1681.85  1663.1  1673.15  12404862  \n",
       "3  4123.05  4090.0  4099.00   2361000  "
      ]
     },
     "execution_count": 67,
     "metadata": {},
     "output_type": "execute_result"
    }
   ],
   "source": [
    "df"
   ]
  },
  {
   "cell_type": "code",
   "execution_count": null,
   "id": "ceb7f658-413c-4ed0-ad43-7dc84506c511",
   "metadata": {},
   "outputs": [],
   "source": []
  }
 ],
 "metadata": {
  "kernelspec": {
   "display_name": "Python 3 (ipykernel)",
   "language": "python",
   "name": "python3"
  },
  "language_info": {
   "codemirror_mode": {
    "name": "ipython",
    "version": 3
   },
   "file_extension": ".py",
   "mimetype": "text/x-python",
   "name": "python",
   "nbconvert_exporter": "python",
   "pygments_lexer": "ipython3",
   "version": "3.11.7"
  }
 },
 "nbformat": 4,
 "nbformat_minor": 5
}
